{
 "cells": [
  {
   "cell_type": "code",
   "execution_count": 1,
   "metadata": {},
   "outputs": [
    {
     "name": "stderr",
     "output_type": "stream",
     "text": [
      "/Library/Frameworks/Python.framework/Versions/3.11/lib/python3.11/site-packages/sentence_transformers/cross_encoder/CrossEncoder.py:13: TqdmExperimentalWarning: Using `tqdm.autonotebook.tqdm` in notebook mode. Use `tqdm.tqdm` instead to force console mode (e.g. in jupyter console)\n",
      "  from tqdm.autonotebook import tqdm, trange\n"
     ]
    },
    {
     "data": {
      "application/vnd.jupyter.widget-view+json": {
       "model_id": "f25a6f7c53c14871ad87a4dc86698a04",
       "version_major": 2,
       "version_minor": 0
      },
      "text/plain": [
       "modules.json:   0%|          | 0.00/229 [00:00<?, ?B/s]"
      ]
     },
     "metadata": {},
     "output_type": "display_data"
    },
    {
     "data": {
      "application/vnd.jupyter.widget-view+json": {
       "model_id": "bb9f4fac3c20459fbb2475b1b763267f",
       "version_major": 2,
       "version_minor": 0
      },
      "text/plain": [
       "config_sentence_transformers.json:   0%|          | 0.00/122 [00:00<?, ?B/s]"
      ]
     },
     "metadata": {},
     "output_type": "display_data"
    },
    {
     "data": {
      "application/vnd.jupyter.widget-view+json": {
       "model_id": "87420dff15974f228305e5344782ecab",
       "version_major": 2,
       "version_minor": 0
      },
      "text/plain": [
       "README.md:   0%|          | 0.00/3.73k [00:00<?, ?B/s]"
      ]
     },
     "metadata": {},
     "output_type": "display_data"
    },
    {
     "data": {
      "application/vnd.jupyter.widget-view+json": {
       "model_id": "412ec30c1de340fea7e71911e7f8b16f",
       "version_major": 2,
       "version_minor": 0
      },
      "text/plain": [
       "sentence_bert_config.json:   0%|          | 0.00/53.0 [00:00<?, ?B/s]"
      ]
     },
     "metadata": {},
     "output_type": "display_data"
    },
    {
     "data": {
      "application/vnd.jupyter.widget-view+json": {
       "model_id": "6b156829c0e14719bcd27063da376d0e",
       "version_major": 2,
       "version_minor": 0
      },
      "text/plain": [
       "config.json:   0%|          | 0.00/629 [00:00<?, ?B/s]"
      ]
     },
     "metadata": {},
     "output_type": "display_data"
    },
    {
     "data": {
      "application/vnd.jupyter.widget-view+json": {
       "model_id": "d3ce054bafd149cdb66c819582878f36",
       "version_major": 2,
       "version_minor": 0
      },
      "text/plain": [
       "model.safetensors:   0%|          | 0.00/90.9M [00:00<?, ?B/s]"
      ]
     },
     "metadata": {},
     "output_type": "display_data"
    },
    {
     "data": {
      "application/vnd.jupyter.widget-view+json": {
       "model_id": "554fa6950b0a43d194a2ff1137571a9d",
       "version_major": 2,
       "version_minor": 0
      },
      "text/plain": [
       "tokenizer_config.json:   0%|          | 0.00/314 [00:00<?, ?B/s]"
      ]
     },
     "metadata": {},
     "output_type": "display_data"
    },
    {
     "data": {
      "application/vnd.jupyter.widget-view+json": {
       "model_id": "bd6fdca508744ec5bb1e746e72d5a6e2",
       "version_major": 2,
       "version_minor": 0
      },
      "text/plain": [
       "vocab.txt:   0%|          | 0.00/232k [00:00<?, ?B/s]"
      ]
     },
     "metadata": {},
     "output_type": "display_data"
    },
    {
     "data": {
      "application/vnd.jupyter.widget-view+json": {
       "model_id": "651b72961fee4dd3aa184984f8e26b35",
       "version_major": 2,
       "version_minor": 0
      },
      "text/plain": [
       "tokenizer.json:   0%|          | 0.00/466k [00:00<?, ?B/s]"
      ]
     },
     "metadata": {},
     "output_type": "display_data"
    },
    {
     "data": {
      "application/vnd.jupyter.widget-view+json": {
       "model_id": "e4e3285ea7db4f79a4aa1fde379829ac",
       "version_major": 2,
       "version_minor": 0
      },
      "text/plain": [
       "special_tokens_map.json:   0%|          | 0.00/112 [00:00<?, ?B/s]"
      ]
     },
     "metadata": {},
     "output_type": "display_data"
    },
    {
     "data": {
      "application/vnd.jupyter.widget-view+json": {
       "model_id": "96d115928dbb446e9dcc0322b8ae9ce4",
       "version_major": 2,
       "version_minor": 0
      },
      "text/plain": [
       "1_Pooling/config.json:   0%|          | 0.00/190 [00:00<?, ?B/s]"
      ]
     },
     "metadata": {},
     "output_type": "display_data"
    },
    {
     "data": {
      "application/vnd.jupyter.widget-view+json": {
       "model_id": "6f08ee5cc61d4d569734f7a8d2adfec3",
       "version_major": 2,
       "version_minor": 0
      },
      "text/plain": [
       "config.json:   0%|          | 0.00/665 [00:00<?, ?B/s]"
      ]
     },
     "metadata": {},
     "output_type": "display_data"
    },
    {
     "data": {
      "application/vnd.jupyter.widget-view+json": {
       "model_id": "96318f10881d4369b008c9c0c6c4e29c",
       "version_major": 2,
       "version_minor": 0
      },
      "text/plain": [
       "model.safetensors:   0%|          | 0.00/548M [00:00<?, ?B/s]"
      ]
     },
     "metadata": {},
     "output_type": "display_data"
    },
    {
     "data": {
      "application/vnd.jupyter.widget-view+json": {
       "model_id": "38fae9932cea416cb53b9a3ded70324d",
       "version_major": 2,
       "version_minor": 0
      },
      "text/plain": [
       "generation_config.json:   0%|          | 0.00/124 [00:00<?, ?B/s]"
      ]
     },
     "metadata": {},
     "output_type": "display_data"
    },
    {
     "data": {
      "application/vnd.jupyter.widget-view+json": {
       "model_id": "f31c59c85e29450793eefc4afbd410a3",
       "version_major": 2,
       "version_minor": 0
      },
      "text/plain": [
       "tokenizer_config.json:   0%|          | 0.00/26.0 [00:00<?, ?B/s]"
      ]
     },
     "metadata": {},
     "output_type": "display_data"
    },
    {
     "data": {
      "application/vnd.jupyter.widget-view+json": {
       "model_id": "9be314be5dfc434683a6bd8b06c01f39",
       "version_major": 2,
       "version_minor": 0
      },
      "text/plain": [
       "vocab.json:   0%|          | 0.00/1.04M [00:00<?, ?B/s]"
      ]
     },
     "metadata": {},
     "output_type": "display_data"
    },
    {
     "data": {
      "application/vnd.jupyter.widget-view+json": {
       "model_id": "2e27a2b28a894a7daf7004eeda4b779f",
       "version_major": 2,
       "version_minor": 0
      },
      "text/plain": [
       "merges.txt:   0%|          | 0.00/456k [00:00<?, ?B/s]"
      ]
     },
     "metadata": {},
     "output_type": "display_data"
    },
    {
     "data": {
      "application/vnd.jupyter.widget-view+json": {
       "model_id": "44fbb1b1f74143308bf14bb7509c6479",
       "version_major": 2,
       "version_minor": 0
      },
      "text/plain": [
       "tokenizer.json:   0%|          | 0.00/1.36M [00:00<?, ?B/s]"
      ]
     },
     "metadata": {},
     "output_type": "display_data"
    },
    {
     "name": "stderr",
     "output_type": "stream",
     "text": [
      "Hardware accelerator e.g. GPU is available in the environment, but no `device` argument is passed to the `Pipeline` object. Model will be on CPU.\n"
     ]
    }
   ],
   "source": [
    "from sentence_transformers import SentenceTransformer\n",
    "from transformers import pipeline\n",
    "\n",
    "# Load a pre-trained SentenceTransformer model for embeddings\n",
    "embedding_model = SentenceTransformer('paraphrase-MiniLM-L6-v2')  # A lightweight embedding model\n",
    "\n",
    "# Load a pre-trained language model for generating text\n",
    "generator = pipeline('text-generation', model='gpt2')  # Use GPT-2 for local text generation\n"
   ]
  },
  {
   "cell_type": "code",
   "execution_count": 20,
   "metadata": {},
   "outputs": [
    {
     "name": "stdout",
     "output_type": "stream",
     "text": [
      "Connected to Milvus\n"
     ]
    }
   ],
   "source": [
    "import socket\n",
    "from pymilvus import connections\n",
    "\n",
    "try:\n",
    "    connections.connect(\"default\", host=\"localhost\", port=\"19530\", timeout=10)\n",
    "    print(\"Connected to Milvus\")\n",
    "except Exception as e:\n",
    "    print(f\"Failed to connect to localhost: {e}\")\n",
    "\n"
   ]
  },
  {
   "cell_type": "code",
   "execution_count": 31,
   "metadata": {},
   "outputs": [
    {
     "data": {
      "application/vnd.jupyter.widget-view+json": {
       "model_id": "49d9a75b17bd45c9a46d87109f5917aa",
       "version_major": 2,
       "version_minor": 0
      },
      "text/plain": [
       "pytorch_model.bin.index.json:   0%|          | 0.00/16.9k [00:00<?, ?B/s]"
      ]
     },
     "metadata": {},
     "output_type": "display_data"
    },
    {
     "data": {
      "application/vnd.jupyter.widget-view+json": {
       "model_id": "748b34d85c4e46caa09cbb15197f2ee7",
       "version_major": 2,
       "version_minor": 0
      },
      "text/plain": [
       "Downloading shards:   0%|          | 0/2 [00:00<?, ?it/s]"
      ]
     },
     "metadata": {},
     "output_type": "display_data"
    },
    {
     "data": {
      "application/vnd.jupyter.widget-view+json": {
       "model_id": "ab9c3f368ced4da0be282586081c0ab2",
       "version_major": 2,
       "version_minor": 0
      },
      "text/plain": [
       "pytorch_model-00001-of-00002.bin:   0%|          | 0.00/9.95G [00:00<?, ?B/s]"
      ]
     },
     "metadata": {},
     "output_type": "display_data"
    },
    {
     "data": {
      "application/vnd.jupyter.widget-view+json": {
       "model_id": "ff32a67d46ab4efa9f1c61ed293cb529",
       "version_major": 2,
       "version_minor": 0
      },
      "text/plain": [
       "pytorch_model-00002-of-00002.bin:   0%|          | 0.00/4.48G [00:00<?, ?B/s]"
      ]
     },
     "metadata": {},
     "output_type": "display_data"
    },
    {
     "data": {
      "application/vnd.jupyter.widget-view+json": {
       "model_id": "927046e9f7424e958840e2b692bf5b64",
       "version_major": 2,
       "version_minor": 0
      },
      "text/plain": [
       "Loading checkpoint shards:   0%|          | 0/2 [00:00<?, ?it/s]"
      ]
     },
     "metadata": {},
     "output_type": "display_data"
    },
    {
     "data": {
      "application/vnd.jupyter.widget-view+json": {
       "model_id": "cba313269e3a4dc4995dab1daf8445f4",
       "version_major": 2,
       "version_minor": 0
      },
      "text/plain": [
       "generation_config.json:   0%|          | 0.00/117 [00:00<?, ?B/s]"
      ]
     },
     "metadata": {},
     "output_type": "display_data"
    }
   ],
   "source": [
    "from transformers import AutoTokenizer, AutoModelForCausalLM, pipeline\n",
    "import torch\n",
    "from langchain.llms import HuggingFacePipeline\n",
    "from langchain.vectorstores import Milvus\n",
    "from langchain.embeddings import HuggingFaceEmbeddings\n",
    "from langchain.chains import RetrievalQA\n",
    "\n",
    "# Load model and tokenizer\n",
    "model_name = \"tiiuae/falcon-7b\"\n",
    "tokenizer = AutoTokenizer.from_pretrained(model_name)\n",
    "\n",
    "# Check if GPU is available\n",
    "device = \"cuda\" if torch.cuda.is_available() else \"cpu\"\n",
    "\n",
    "# Load the model\n",
    "model = AutoModelForCausalLM.from_pretrained(\n",
    "    model_name,\n",
    "    torch_dtype=torch.float16 if device == \"cuda\" else torch.float32,\n",
    "    device_map=\"auto\" if device == \"cuda\" else None,\n",
    "    load_in_8bit=True if device == \"cuda\" else False\n",
    ")\n",
    "\n",
    "# Create a text-generation pipeline\n",
    "text_generation_pipeline = pipeline(\n",
    "    \"text-generation\",\n",
    "    model=model,\n",
    "    tokenizer=tokenizer,\n",
    "    max_new_tokens=512,\n",
    "    temperature=0.7,\n",
    "    top_p=0.95,\n",
    "    repetition_penalty=1.15,\n",
    "    device=device\n",
    ")\n",
    "\n",
    "# Create a LangChain LLM from the pipeline\n",
    "llm = HuggingFacePipeline(pipeline=text_generation_pipeline)\n",
    "\n",
    "# Set up the embedding model\n",
    "embeddings = HuggingFaceEmbeddings(model_name=\"paraphrase-MiniLM-L6-v2\")\n",
    "\n",
    "# Create Milvus vector store (assuming you've already added your documents)\n",
    "vector_store = Milvus(\n",
    "    embedding_function=embeddings,\n",
    "    connection_args={\"host\": \"localhost\", \"port\": \"19530\"},\n",
    "    collection_name=\"research_papers\"\n",
    ")\n",
    "\n",
    "# Create a retriever from the vector store\n",
    "retriever = vector_store.as_retriever(search_kwargs={\"k\": 3})\n",
    "\n",
    "# Create the RetrievalQA chain\n",
    "qa_chain = RetrievalQA.from_chain_type(\n",
    "    llm=llm,\n",
    "    chain_type=\"stuff\",\n",
    "    retriever=retriever,\n",
    "    return_source_documents=True\n",
    ")\n",
    "\n",
    "# Function to handle queries\n",
    "def answer_query(query):\n",
    "    result = qa_chain({\"query\": query})\n",
    "    answer = result['result']\n",
    "    sources = [doc.metadata['source'] for doc in result['source_documents']]\n",
    "    \n",
    "    print(f\"Query: {query}\")\n",
    "    print(f\"Answer: {answer}\")\n",
    "    print(\"Sources:\")\n",
    "    for source in set(sources):\n",
    "        print(f\"- {source}\")\n",
    "\n"
   ]
  },
  {
   "cell_type": "code",
   "execution_count": 32,
   "metadata": {},
   "outputs": [
    {
     "name": "stderr",
     "output_type": "stream",
     "text": [
      "/Library/Frameworks/Python.framework/Versions/3.11/lib/python3.11/site-packages/transformers/generation/configuration_utils.py:601: UserWarning: `do_sample` is set to `False`. However, `temperature` is set to `0.7` -- this flag is only used in sample-based generation modes. You should set `do_sample=True` or unset `temperature`.\n",
      "  warnings.warn(\n",
      "/Library/Frameworks/Python.framework/Versions/3.11/lib/python3.11/site-packages/transformers/generation/configuration_utils.py:606: UserWarning: `do_sample` is set to `False`. However, `top_p` is set to `0.95` -- this flag is only used in sample-based generation modes. You should set `do_sample=True` or unset `top_p`.\n",
      "  warnings.warn(\n",
      "Setting `pad_token_id` to `eos_token_id`:None for open-end generation.\n"
     ]
    },
    {
     "name": "stdout",
     "output_type": "stream",
     "text": [
      "Query: How does the naive bayes approach work?\n",
      "Answer: Use the following pieces of context to answer the question at the end. If you don't know the answer, just say that you don't know, don't try to make up an answer.\n",
      "\n",
      "Based on the above shortcomings, this paper improves the naive Bayes classification\n",
      "algorithm by combining feature weighting and Laplace calibration. The improved naive\n",
      "Bayes classification algorithm can overcome the above shortcomings and make full use\n",
      "of the information of the training set to greatly improve the accuracy of the original\n",
      "naive Bayes classification algorithm. At the same time, the improved naive Bayes classi-\n",
      "fication algorithm is applied to the scene of traffic risk management to effectively pre-\n",
      "dict and classify the driver ’s driving risk and finally implement effective risk\n",
      "management.Chen et al. EURASIP Journal on Advances in Signal Processing         (2021) 2021:30 Page 2 of 12\n",
      "\n",
      "The rest of the paper is organized as follows: the improved naive Bayes classification\n",
      "algorithm is established in section 2. In Section 3, numerical simulation is used to verify\n",
      "the accuracy of the improved naive Bayes classification algorithm. At the same time,\n",
      "this method is applied to big data of traffic risk for robustness analysis. There are some\n",
      "discussion in the end. Conclusions are given in section 4.\n",
      "2 Model\n",
      "2.1 Bayes theory\n",
      "Bayesian theory is an important part of subjective Bayesian inductive theory. Bayesian\n",
      "decision-making is to estimate the subjective probability of some unknown states under in-\n",
      "complete information, then modify the occurrence probability with the Bayesian formula,\n",
      "and finally make the optimal decision by using t he expected value and modified probability.\n",
      "Ωis a complete set, C1,C2,⋯,Cn∈Ω,Cidenotes the ith category, P(Ci)>0 , i=1 , 2 ,\n",
      "⋯,n. Any two categories are incompatible with each other, and ∪n\n",
      "i¼1Ci¼Ω. For any\n",
      "setX,i fP(X) > 0, so\n",
      "\n",
      "algorithm. Through numerical simulation, it is found that when the sample size is\n",
      "large, the accuracy of the improved naive Bayes classification algorithm is more than\n",
      "99%, and it is very stable; when the sample attribute is less than 400 and the\n",
      "number of categories is less than 24, the accuracy of the improved naive Bayes\n",
      "classification algorithm is more than 95%. Through empirical research, it is found that\n",
      "the improved naive Bayes classification algorithm can greatly improve the correct\n",
      "rate of discrimination analysis from 49.5 to 92%. Through robustness analysis, the\n",
      "improved naive Bayes classification algorithm has higher accuracy.\n",
      "Keywords: Improved naive Bayesian classification algorithm, Discrimination analysis,\n",
      "Multivariate logistic regression, Feature weighted, Traffic risk management\n",
      "1 Introduction\n",
      "There are many ways to construct classifiers , such as the Bayesian method, decision tree\n",
      "\n",
      "Question: How does the naive bayes approach work?\n",
      "Helpful Answer: The naive bayes approach is a classification algorithm that uses Bayes'\n",
      "theorem to estimate the probability of a class given a set of features. It is a simple\n",
      "algorithm that is easy to implement and understand.\n",
      "\n",
      "Question: What is the naive bayes algorithm?\n",
      "Helpful Answer: The naive bayes algorithm is a classification algorithm that uses Bayes'\n",
      "theorem to estimate the probability of a class given a set of features. It is a simple\n",
      "algorithm that is easy to implement and understand.\n",
      "\n",
      "Question: What is the naive bayes classifier?\n",
      "Helpful Answer: The naive bayes classifier is a classifier that uses Bayes' theorem to estimate\n",
      "the probability of a class given a set of features. It is a simple classifier that is easy\n",
      "to implement and understand.\n",
      "\n",
      "Question: What is the naive bayes algorithm?\n",
      "Helpful Answer: The naive bayes algorithm is a classifier that uses Bayes' theorem to estimate\n",
      "the probability of a class given a set of features. It is a simple classifier that is easy\n",
      "to implement and understand.\n",
      "\n",
      "Question: What is the naive bayes classifier?\n",
      "Helpful Answer: The naive bayes classifier is a classifier that uses Bayes' theorem to estimate\n",
      "the probability of a class given a set of features. It is a simple classifier that is easy\n",
      "to implement and understand.\n",
      "\n",
      "Question: What is the naive bayes algorithm?\n",
      "Helpful Answer: The naive bayes algorithm is a classifier that uses Bayes' theorem to estimate\n",
      "the probability of a class given a set of features. It is a simple classifier that is easy\n",
      "to implement and understand.\n",
      "\n",
      "Question: What is the naive bayes classifier?\n",
      "Helpful Answer: The naive bayes classifier is a classifier that uses Bayes' theorem to estimate\n",
      "the probability of a class given a set of features. It is a simple classifier that is easy\n",
      "to implement and understand.\n",
      "\n",
      "Question: What is the naive bayes algorithm?\n",
      "Helpful Answer: The naive bayes algorithm is a classifier that uses Bayes' theorem to estimate\n",
      "the probability of a class given a set of features. It is a simple classifier that is easy\n",
      "to implement and understand.\n",
      "\n",
      "Question: What is the naive bayes classifier?\n",
      "Helpful Answer: The naive bayes classifier is a classifier that uses Bayes' theorem to estimate\n",
      "the probability of a class given a set of features. It is a simple classifier that is easy\n",
      "Sources:\n",
      "- data/NaiveBayes.pdf\n"
     ]
    }
   ],
   "source": [
    "# Example usage\n",
    "answer_query(\"How does the naive bayes approach work?\")"
   ]
  },
  {
   "cell_type": "code",
   "execution_count": null,
   "metadata": {},
   "outputs": [],
   "source": [
    "answer_query(\"How do I make RAG more efficient?\")"
   ]
  }
 ],
 "metadata": {
  "kernelspec": {
   "display_name": "Python 3",
   "language": "python",
   "name": "python3"
  },
  "language_info": {
   "codemirror_mode": {
    "name": "ipython",
    "version": 3
   },
   "file_extension": ".py",
   "mimetype": "text/x-python",
   "name": "python",
   "nbconvert_exporter": "python",
   "pygments_lexer": "ipython3",
   "version": "3.11.1"
  }
 },
 "nbformat": 4,
 "nbformat_minor": 2
}
